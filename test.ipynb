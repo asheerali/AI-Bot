{
 "cells": [
  {
   "cell_type": "code",
   "execution_count": 1,
   "id": "8c183e37",
   "metadata": {},
   "outputs": [
    {
     "name": "stdout",
     "output_type": "stream",
     "text": [
      "hello\n"
     ]
    }
   ],
   "source": [
    "print(\"hello\")"
   ]
  },
  {
   "cell_type": "code",
   "execution_count": 5,
   "id": "08dafa1a",
   "metadata": {},
   "outputs": [
    {
     "name": "stdout",
     "output_type": "stream",
     "text": [
      "Celestial wanderers danced through nebulae painted with stardust, seeking secrets whispered across light-years.\n",
      "\n"
     ]
    }
   ],
   "source": [
    "import os\n",
    "import google.generativeai as genai\n",
    "\n",
    "# Load the API key from environment variable\n",
    "api_key = os.getenv(\"GEMINI_API_KEY\")\n",
    "\n",
    "# Check if the key is loaded\n",
    "if not api_key:\n",
    "    raise ValueError(\"GEMINI_API_KEY environment variable not set.\")\n",
    "\n",
    "# Configure Gemini\n",
    "genai.configure(api_key=api_key)\n",
    "\n",
    "# Initialize the model\n",
    "model = genai.GenerativeModel('gemini-2.0-flash')\n",
    "\n",
    "# Generate a sentence\n",
    "prompt = \"Generate a creative sentence about exploring space.\"\n",
    "response = model.generate_content(prompt)\n",
    "\n",
    "# Print the generated sentence\n",
    "print(response.text)\n"
   ]
  },
  {
   "cell_type": "code",
   "execution_count": 14,
   "id": "07098acc",
   "metadata": {},
   "outputs": [
    {
     "name": "stdout",
     "output_type": "stream",
     "text": [
      "It's difficult to determine the exact breed of a cat from a picture, as many mixed-breed cats can share similar characteristics. However, this cat looks like it could have some **Siberian** in it due to its thick, medium-long fur and expressive round eyes. It also resembles a **Maine Coon**, sharing the similar fur and facial structure.  It's possible it's a mix of these or another breed entirely, or perhaps simply a domestic longhair with similar features. Without pedigree papers or a DNA test, it's impossible to say for sure.\n"
     ]
    }
   ],
   "source": [
    "import os\n",
    "import google.generativeai as genai\n",
    "from PIL import Image\n",
    "import io\n",
    "\n",
    "# Load the API key from environment variable\n",
    "api_key = os.getenv(\"GEMINI_API_KEY\")\n",
    "\n",
    "if not api_key:\n",
    "    raise ValueError(\"GEMINI_API_KEY environment variable not set.\")\n",
    "\n",
    "# Configure Gemini\n",
    "genai.configure(api_key=api_key)\n",
    "\n",
    "# Initialize the model\n",
    "model = genai.GenerativeModel('gemini-1.5-pro')  # 'gemini-1.5-pro' supports images\n",
    "\n",
    "# Load and process the image\n",
    "image_path = \"images/cat.jpg\"  # <-- Change this to your image name\n",
    "image = Image.open(image_path)\n",
    "\n",
    "# Convert the image to bytes\n",
    "img_byte_arr = io.BytesIO()\n",
    "image.save(img_byte_arr, format='JPEG')  # or 'PNG' depending on your image\n",
    "img_bytes = img_byte_arr.getvalue()\n",
    "\n",
    "# Now generate content with image\n",
    "response = model.generate_content(\n",
    "    contents=[\n",
    "        {\n",
    "            \"role\": \"user\",\n",
    "            \"parts\": [\n",
    "                {\"text\": \"What is the cat breed?\"},\n",
    "                {\n",
    "                    \"inline_data\": {\n",
    "                        \"mime_type\": \"image/jpeg\",  # Change if using PNG etc.\n",
    "                        \"data\": img_bytes\n",
    "                    }\n",
    "                }\n",
    "            ]\n",
    "        }\n",
    "    ]\n",
    ")\n",
    "\n",
    "# Print the result\n",
    "print(response.text)\n"
   ]
  },
  {
   "cell_type": "code",
   "execution_count": null,
   "id": "89678ce3",
   "metadata": {},
   "outputs": [],
   "source": []
  },
  {
   "cell_type": "code",
   "execution_count": null,
   "id": "77f89f7d",
   "metadata": {},
   "outputs": [],
   "source": [
    "news_api = \"ecfeb1b0f05c43d3830d363b2c5b7837\""
   ]
  },
  {
   "cell_type": "code",
   "execution_count": 1,
   "id": "fdc09f94",
   "metadata": {},
   "outputs": [
    {
     "name": "stdout",
     "output_type": "stream",
     "text": [
      "Requirement already satisfied: requests in c:\\users\\ashee\\documents\\repos\\ai-bot\\ai-bot\\lib\\site-packages (2.32.3)\n",
      "Requirement already satisfied: idna<4,>=2.5 in c:\\users\\ashee\\documents\\repos\\ai-bot\\ai-bot\\lib\\site-packages (from requests) (3.10)\n",
      "Requirement already satisfied: charset-normalizer<4,>=2 in c:\\users\\ashee\\documents\\repos\\ai-bot\\ai-bot\\lib\\site-packages (from requests) (3.3.2)\n",
      "Requirement already satisfied: urllib3<3,>=1.21.1 in c:\\users\\ashee\\documents\\repos\\ai-bot\\ai-bot\\lib\\site-packages (from requests) (2.4.0)\n",
      "Requirement already satisfied: certifi>=2017.4.17 in c:\\users\\ashee\\documents\\repos\\ai-bot\\ai-bot\\lib\\site-packages (from requests) (2025.4.26)\n"
     ]
    },
    {
     "name": "stderr",
     "output_type": "stream",
     "text": [
      "WARNING: You are using pip version 21.2.3; however, version 25.1 is available.\n",
      "You should consider upgrading via the 'C:\\Users\\ashee\\Documents\\repos\\AI-Bot\\ai-bot\\Scripts\\python.exe -m pip install --upgrade pip' command.\n"
     ]
    }
   ],
   "source": [
    "# Install required libraries\n",
    "!pip install requests\n"
   ]
  },
  {
   "cell_type": "code",
   "execution_count": 2,
   "id": "286b61a2",
   "metadata": {},
   "outputs": [],
   "source": [
    "# Import necessary library\n",
    "import requests\n",
    "# Set your NewsAPI key\n",
    "NEWS_API_KEY = \"ecfeb1b0f05c43d3830d363b2c5b7837\""
   ]
  },
  {
   "cell_type": "code",
   "execution_count": 3,
   "id": "abadead3",
   "metadata": {},
   "outputs": [],
   "source": [
    "# Define the function to fetch news\n",
    "def get_latest_news():\n",
    "    url = f\"https://newsapi.org/v2/top-headlines?country=us&apiKey={NEWS_API_KEY}\"\n",
    "    response = requests.get(url)\n",
    "    data = response.json()\n",
    "\n",
    "    articles = []\n",
    "    for article in data.get(\"articles\", [])[:5]:\n",
    "        articles.append({\n",
    "            \"title\": article.get(\"title\"),\n",
    "            \"description\": article.get(\"description\"),\n",
    "            \"url\": article.get(\"url\")\n",
    "        })\n",
    "    return articles\n"
   ]
  },
  {
   "cell_type": "code",
   "execution_count": 4,
   "id": "c0154682",
   "metadata": {},
   "outputs": [
    {
     "name": "stdout",
     "output_type": "stream",
     "text": [
      "🔹 News 1\n",
      "Title: Chris Eubank Jr. edges Conor Benn in thrilling British blockbuster with father in corner - Yahoo Sports\n",
      "Description: Chris Eubank Jr. won an instant classic over Conor Benn on Saturday in London, with father Chris Eubank Sr. unexpectedly joining his corner.\n",
      "URL: https://sports.yahoo.com/boxing/live/chris-eubank-jr-edges-conor-benn-in-thrilling-british-blockbuster-with-father-in-corner-050039350.html\n",
      "\n",
      "🔹 News 2\n",
      "Title: Russia claims it has regained full control of Kursk from Ukraine - BBC\n",
      "Description: Ukraine denies Russian claims it has been forced out of the border region.\n",
      "URL: https://www.bbc.com/news/articles/cx26166ngpdo\n",
      "\n",
      "🔹 News 3\n",
      "Title: 2025 NFL Draft grades for Round 3: Seahawks earn 'A+' for Jalen Milroe pick, Browns get 'C' for Dillon Gabriel - CBS Sports\n",
      "Description: Chris Trapasso grades the third round of the 2025 NFL Draft\n",
      "URL: https://www.cbssports.com/nfl/draft/news/2025-nfl-draft-grades-for-round-3-seahawks-earn-a-for-jalen-milroe-pick-browns-get-c-for-dillon-gabriel/\n",
      "\n",
      "🔹 News 4\n",
      "Title: Trump threatens new sanctions against Russia after Zelensky meeting - The Washington Post\n",
      "Description: Zelensky used the funeral of Pope Francis to launch a diplomatic blitz to head off a U.S. proposal to end Russia’s war on Ukraine on terms favorable to Moscow.\n",
      "URL: https://www.washingtonpost.com/world/2025/04/26/trump-zelensky-pope-francis-funeral/\n",
      "\n",
      "🔹 News 5\n",
      "Title: About 4-in-10 Americans say Trump is a ‘terrible’ president amid sinking approval: Survey - The Hill\n",
      "Description: A new poll shows that about 4 in 10 Americans say President Trump has been a “terrible” leader in his second term. The Associated Press-NORC Center for Public Affairs Research also found that about 2 in 10 think he has done an average job in his presidency an…\n",
      "URL: https://thehill.com/homenews/administration/5269499-about-4-in-10-americans-say-trump-is-a-terrible-president-amid-sinking-approval-survey/\n",
      "\n"
     ]
    }
   ],
   "source": [
    "# Fetch and display the news\n",
    "news = get_latest_news()\n",
    "\n",
    "for idx, article in enumerate(news, 1):\n",
    "    print(f\"🔹 News {idx}\")\n",
    "    print(f\"Title: {article['title']}\")\n",
    "    print(f\"Description: {article['description']}\")\n",
    "    print(f\"URL: {article['url']}\\n\")\n"
   ]
  },
  {
   "cell_type": "code",
   "execution_count": 5,
   "id": "7b900956",
   "metadata": {},
   "outputs": [],
   "source": [
    "# Define the function to fetch tech news\n",
    "def get_tech_news():\n",
    "    url = f\"https://newsapi.org/v2/top-headlines?country=us&category=technology&apiKey={NEWS_API_KEY}\"\n",
    "    response = requests.get(url)\n",
    "    data = response.json()\n",
    "\n",
    "    articles = []\n",
    "    for article in data.get(\"articles\", [])[:5]:\n",
    "        articles.append({\n",
    "            \"title\": article.get(\"title\"),\n",
    "            \"description\": article.get(\"description\"),\n",
    "            \"url\": article.get(\"url\")\n",
    "        })\n",
    "    return articles\n"
   ]
  },
  {
   "cell_type": "code",
   "execution_count": 6,
   "id": "57d424bc",
   "metadata": {},
   "outputs": [
    {
     "name": "stdout",
     "output_type": "stream",
     "text": [
      "🔹 Tech News 1\n",
      "Title: Google will stop supporting early Nest thermostats on October 25 - TechCrunch\n",
      "Description: Google announced this week that beginning on October 25, it will no longer support or release software updates for the first and second generation Nest\n",
      "URL: https://techcrunch.com/2025/04/26/google-will-stop-supporting-early-nest-thermostats-on-october-25/\n",
      "\n",
      "🔹 Tech News 2\n",
      "Title: Google says Android’s Find My Device network is 4x faster, teases UWB ‘very soon’ - 9to5Google\n",
      "Description: Google’s Find My Device network for Android started off slow, to say the least, but has been steadily improving. Now,...\n",
      "URL: http://9to5google.com/2025/04/26/android-find-my-device-network-speed-uwb-improvements/\n",
      "\n",
      "🔹 Tech News 3\n",
      "Title: Northern Lights Forecast: These 7 States Could See Aurora Borealis Tonight - Forbes\n",
      "Description: Some of the northernmost U.S. states and Canada will have a chance at seeing aurora borealis tonight.\n",
      "URL: https://www.forbes.com/sites/conormurray/2025/04/26/northern-lights-forecast-these-7-states-could-see-aurora-borealis-tonight/\n",
      "\n",
      "🔹 Tech News 4\n",
      "Title: PlayStation's Big Games Big Deals sale features Mortal Kombat 1, Dragon Ball Sparking Zero and more fighting game deals to check out - EventHubs\n",
      "Description: There's never a bad time to save a bunch of money on fighting games, so how about doing so right now?PlayStation's Big Games Big Deals sale is now underway offering dozens of fighting game discounts worth checking ...\n",
      "URL: https://www.eventhubs.com/news/2025/apr/26/playstation-big-deals-sales-fighters/\n",
      "\n",
      "🔹 Tech News 5\n",
      "Title: Apple warns iPhone users to delete this popular app immediately - SILive.com\n",
      "Description: None\n",
      "URL: https://www.silive.com/entertainment/2025/04/apple-warns-iphone-users-to-delete-this-popular-app-immediately.html\n",
      "\n"
     ]
    }
   ],
   "source": [
    "# Fetch and display the tech news\n",
    "tech_news = get_tech_news()\n",
    "\n",
    "for idx, article in enumerate(tech_news, 1):\n",
    "    print(f\"🔹 Tech News {idx}\")\n",
    "    print(f\"Title: {article['title']}\")\n",
    "    print(f\"Description: {article['description']}\")\n",
    "    print(f\"URL: {article['url']}\\n\")\n"
   ]
  },
  {
   "cell_type": "code",
   "execution_count": 1,
   "id": "b5410570",
   "metadata": {},
   "outputs": [
    {
     "ename": "ImportError",
     "evalue": "cannot import name 'Pinecone' from 'pinecone' (unknown location)",
     "output_type": "error",
     "traceback": [
      "\u001b[1;31m---------------------------------------------------------------------------\u001b[0m",
      "\u001b[1;31mImportError\u001b[0m                               Traceback (most recent call last)",
      "Cell \u001b[1;32mIn[1], line 1\u001b[0m\n\u001b[1;32m----> 1\u001b[0m \u001b[38;5;28;01mfrom\u001b[39;00m\u001b[38;5;250m \u001b[39m\u001b[38;5;21;01mpinecone\u001b[39;00m\u001b[38;5;250m \u001b[39m\u001b[38;5;28;01mimport\u001b[39;00m Pinecone, ServerlessSpec\n\u001b[0;32m      3\u001b[0m pc \u001b[38;5;241m=\u001b[39m Pinecone(api_key\u001b[38;5;241m=\u001b[39m\u001b[38;5;124m\"\u001b[39m\u001b[38;5;124mpcsk_61Nqpy_LB77tFeUf93pnTszF6x9yGQiCL6E4aqbUmKznzxa6gFpjXVwW3ojby6b9NyqTcd\u001b[39m\u001b[38;5;124m\"\u001b[39m)\n",
      "\u001b[1;31mImportError\u001b[0m: cannot import name 'Pinecone' from 'pinecone' (unknown location)"
     ]
    }
   ],
   "source": [
    "from pinecone import Pinecone, ServerlessSpec\n",
    "\n",
    "pc = Pinecone(api_key=\"pcsk_61Nqpy_LB77tFeUf93pnTszF6x9yGQiCL6E4aqbUmKznzxa6gFpjXVwW3ojby6b9NyqTcd\")"
   ]
  },
  {
   "cell_type": "code",
   "execution_count": null,
   "id": "1ae7fbfc",
   "metadata": {},
   "outputs": [],
   "source": [
    "index_name = \"quickstart\"\n",
    "\n",
    "pc.create_index(\n",
    "    name=index_name,\n",
    "    dimension=2, # Replace with your model dimensions\n",
    "    metric=\"cosine\", # Replace with your model metric\n",
    "    spec=ServerlessSpec(\n",
    "        cloud=\"aws\",\n",
    "        region=\"us-east-1\"\n",
    "    ) \n",
    ")"
   ]
  },
  {
   "cell_type": "code",
   "execution_count": null,
   "id": "26f4b171",
   "metadata": {},
   "outputs": [],
   "source": []
  }
 ],
 "metadata": {
  "kernelspec": {
   "display_name": "ai-bot",
   "language": "python",
   "name": "python3"
  },
  "language_info": {
   "codemirror_mode": {
    "name": "ipython",
    "version": 3
   },
   "file_extension": ".py",
   "mimetype": "text/x-python",
   "name": "python",
   "nbconvert_exporter": "python",
   "pygments_lexer": "ipython3",
   "version": "3.10.0"
  }
 },
 "nbformat": 4,
 "nbformat_minor": 5
}
